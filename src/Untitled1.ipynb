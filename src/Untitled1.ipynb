{
 "cells": [
  {
   "cell_type": "code",
   "execution_count": 1,
   "metadata": {},
   "outputs": [],
   "source": [
    "from lol_spring_player_power import create_player_rankings\n",
    "from lol_spring_player_power import df\n",
    "import pandas as pd\n",
    "import numpy as np\n",
    "import collections\n",
    "from mid_season import create_mid_player_rankings, new_df"
   ]
  },
  {
   "cell_type": "code",
   "execution_count": 2,
   "metadata": {},
   "outputs": [
    {
     "name": "stderr",
     "output_type": "stream",
     "text": [
      "/opt/anaconda3/lib/python3.8/site-packages/pandas/core/generic.py:3939: SettingWithCopyWarning: \n",
      "A value is trying to be set on a copy of a slice from a DataFrame\n",
      "\n",
      "See the caveats in the documentation: https://pandas.pydata.org/pandas-docs/stable/user_guide/indexing.html#returning-a-view-versus-a-copy\n",
      "  self._update_inplace(obj)\n",
      "/opt/anaconda3/lib/python3.8/site-packages/pandas/core/series.py:2994: SettingWithCopyWarning: \n",
      "A value is trying to be set on a copy of a slice from a DataFrame\n",
      "\n",
      "See the caveats in the documentation: https://pandas.pydata.org/pandas-docs/stable/user_guide/indexing.html#returning-a-view-versus-a-copy\n",
      "  self._update_inplace(result)\n"
     ]
    }
   ],
   "source": [
    "testing=create_mid_player_rankings(new_df)"
   ]
  },
  {
   "cell_type": "code",
   "execution_count": 3,
   "metadata": {},
   "outputs": [
    {
     "data": {
      "text/plain": [
       "[   Top [TSM Huni]  Top [C9 Summit]  Top [TL Bwipo]  Top [100T Ssumday]  Top [EG Impact]  Top [GGS Licorice]  Top [FLY Kumo]  Top [CLG Jenkins]  Top [IMT Revenge]  Top [DIG FakeGod]\n",
       " 0               6                2               1                   4                3                   7              10                  8                  5                  9\n",
       " 1               8                1               2                   3                4                   6              10                  7                  5                  9\n",
       " 2               5                1               2                   4                3                   7               9                  8                  6                 10\n",
       " 3               7                1               3                   4                2                   5               8                 10                  6                  9\n",
       " 4               8                2               1                   3                4                  10               7                  9                  5                  6\n",
       " 5              10                3               1                   2                6                   5               4                  7                  8                  9,\n",
       "    Jungle [TSM Spica]  Jungle [C9 Blaber]  Jungle [TL Santorin]  Jungle [100T Closer]  ...  Jungle [FLY Josedeodo]  Jungle [CLG Contractz]  Jungle [IMT Xerxe]  Jungle [DIG River]\n",
       " 0                   7                   1                     4                     3  ...                       9                      10                   8                   5\n",
       " 1                   8                   1                     4                     3  ...                       9                      10                   7                   6\n",
       " 2                   5                   1                     4                     3  ...                       9                      10                   7                   8\n",
       " 3                   5                   1                     3                     4  ...                       9                      10                   8                   7\n",
       " 4                   7                   1                     2                     3  ...                       5                      10                   8                   9\n",
       " 5                   6                   1                     2                     3  ...                       5                       4                  10                   9\n",
       " \n",
       " [6 rows x 10 columns],\n",
       "    Mid [TSM Keaiduo]  Mid [C9 Fudge]  Mid [TL Bjergsen]  Mid [100T Abbedagge]  Mid [EG Jojopyun]  Mid [GGS Ablazeolive]  Mid [FLY Toucouille]  Mid [CLG Palafox]  Mid [IMT POE]  Mid [DIG Blue]\n",
       " 0                  7               4                  1                     3                  2                      9                     6                 10              5               8\n",
       " 1                  9               3                  1                     4                  2                      7                     6                 10              8               5\n",
       " 2                  6               1                  2                     4                  3                      8                     7                 10              9               5\n",
       " 3                  9               3                  1                     4                  2                      8                     5                 10              7               6\n",
       " 4                 10               2                  1                     3                  5                      8                     4                  9              7               6\n",
       " 5                 10               2                  1                     3                  4                      5                     6                  9              7               8,\n",
       "    ADC [TSM Tactical]  ADC [C9 Berserker]  ADC [TL Hans Sama]  ADC [100T FBI]  ADC [EG Danny]  ADC [GGS Lost]  ADC [FLY Johnsun]  ADC [CLG Luger]  ADC [IMT Wildturtle / Arrow]  ADC [DIG Neo]\n",
       " 0                   5                   2                   1               4               3               6                 10                9                             8              7\n",
       " 1                   6                   1                   2               3               4               8                 10                9                             7              5\n",
       " 2                   5                   1                   2               3               4               8                  7               10                             9              6\n",
       " 3                   6                   2                   1               4               3               5                  9               10                             7              8\n",
       " 4                   7                   1                   2               6               3               4                  5                9                            10              8\n",
       " 5                   7                   1                   2               3               8               5                  4                6                            10              9,\n",
       "    SUP [TSM Shenyi / Yursan]  SUP [C9 Winsome]  SUP [TL CoreJJ]  SUP [100T Huhi]  SUP [EG Vulcan]  SUP [GGS Olleh]  SUP [FLY Aphromoo]  SUP [CLG Poome]  SUP [IMT Destiny]  SUP [DIG Biofrost]\n",
       " 0                          8                 5                1                3                2                7                   4                9                 10                   6\n",
       " 1                          8                 5                1                4                2                6                   3                9                 10                   7\n",
       " 2                          8                 4                1                3                2                6                   5                9                 10                   7\n",
       " 3                          9                 4                1                3                2                6                   5               10                  8                   7\n",
       " 4                         10                 2                1                5                3                7                   4                9                  6                   8\n",
       " 5                         10                 3                1                2                4                6                   8                7                  9                   5]"
      ]
     },
     "execution_count": 3,
     "metadata": {},
     "output_type": "execute_result"
    }
   ],
   "source": [
    "testing"
   ]
  },
  {
   "cell_type": "code",
   "execution_count": 10,
   "metadata": {},
   "outputs": [
    {
     "data": {
      "text/plain": [
       "Top [TSM Huni]         6\n",
       "Top [C9 Summit]        2\n",
       "Top [TL Bwipo]         1\n",
       "Top [100T Ssumday]     4\n",
       "Top [EG Impact]        3\n",
       "Top [GGS Licorice]     7\n",
       "Top [FLY Kumo]        10\n",
       "Top [CLG Jenkins]      8\n",
       "Top [IMT Revenge]      5\n",
       "Top [DIG FakeGod]      9\n",
       "Name: 0, dtype: int64"
      ]
     },
     "execution_count": 10,
     "metadata": {},
     "output_type": "execute_result"
    }
   ],
   "source": [
    "top=testing[0]\n",
    "top.iloc[0]"
   ]
  },
  {
   "cell_type": "code",
   "execution_count": 11,
   "metadata": {},
   "outputs": [
    {
     "data": {
      "text/html": [
       "<div>\n",
       "<style scoped>\n",
       "    .dataframe tbody tr th:only-of-type {\n",
       "        vertical-align: middle;\n",
       "    }\n",
       "\n",
       "    .dataframe tbody tr th {\n",
       "        vertical-align: top;\n",
       "    }\n",
       "\n",
       "    .dataframe thead th {\n",
       "        text-align: right;\n",
       "    }\n",
       "</style>\n",
       "<table border=\"1\" class=\"dataframe\">\n",
       "  <thead>\n",
       "    <tr style=\"text-align: right;\">\n",
       "      <th></th>\n",
       "      <th>Top [TSM Huni]</th>\n",
       "      <th>Top [C9 Summit]</th>\n",
       "      <th>Top [TL Bwipo]</th>\n",
       "      <th>Top [100T Ssumday]</th>\n",
       "      <th>Top [EG Impact]</th>\n",
       "      <th>Top [GGS Licorice]</th>\n",
       "      <th>Top [FLY Kumo]</th>\n",
       "      <th>Top [CLG Jenkins]</th>\n",
       "      <th>Top [IMT Revenge]</th>\n",
       "      <th>Top [DIG FakeGod]</th>\n",
       "    </tr>\n",
       "  </thead>\n",
       "  <tbody>\n",
       "    <tr>\n",
       "      <th>0</th>\n",
       "      <td>6</td>\n",
       "      <td>2</td>\n",
       "      <td>1</td>\n",
       "      <td>4</td>\n",
       "      <td>3</td>\n",
       "      <td>7</td>\n",
       "      <td>10</td>\n",
       "      <td>8</td>\n",
       "      <td>5</td>\n",
       "      <td>9</td>\n",
       "    </tr>\n",
       "    <tr>\n",
       "      <th>1</th>\n",
       "      <td>8</td>\n",
       "      <td>1</td>\n",
       "      <td>2</td>\n",
       "      <td>3</td>\n",
       "      <td>4</td>\n",
       "      <td>6</td>\n",
       "      <td>10</td>\n",
       "      <td>7</td>\n",
       "      <td>5</td>\n",
       "      <td>9</td>\n",
       "    </tr>\n",
       "    <tr>\n",
       "      <th>2</th>\n",
       "      <td>5</td>\n",
       "      <td>1</td>\n",
       "      <td>2</td>\n",
       "      <td>4</td>\n",
       "      <td>3</td>\n",
       "      <td>7</td>\n",
       "      <td>9</td>\n",
       "      <td>8</td>\n",
       "      <td>6</td>\n",
       "      <td>10</td>\n",
       "    </tr>\n",
       "    <tr>\n",
       "      <th>3</th>\n",
       "      <td>7</td>\n",
       "      <td>1</td>\n",
       "      <td>3</td>\n",
       "      <td>4</td>\n",
       "      <td>2</td>\n",
       "      <td>5</td>\n",
       "      <td>8</td>\n",
       "      <td>10</td>\n",
       "      <td>6</td>\n",
       "      <td>9</td>\n",
       "    </tr>\n",
       "    <tr>\n",
       "      <th>4</th>\n",
       "      <td>8</td>\n",
       "      <td>2</td>\n",
       "      <td>1</td>\n",
       "      <td>3</td>\n",
       "      <td>4</td>\n",
       "      <td>10</td>\n",
       "      <td>7</td>\n",
       "      <td>9</td>\n",
       "      <td>5</td>\n",
       "      <td>6</td>\n",
       "    </tr>\n",
       "    <tr>\n",
       "      <th>5</th>\n",
       "      <td>10</td>\n",
       "      <td>3</td>\n",
       "      <td>1</td>\n",
       "      <td>2</td>\n",
       "      <td>6</td>\n",
       "      <td>5</td>\n",
       "      <td>4</td>\n",
       "      <td>7</td>\n",
       "      <td>8</td>\n",
       "      <td>9</td>\n",
       "    </tr>\n",
       "  </tbody>\n",
       "</table>\n",
       "</div>"
      ],
      "text/plain": [
       "   Top [TSM Huni]  Top [C9 Summit]  Top [TL Bwipo]  Top [100T Ssumday]  Top [EG Impact]  Top [GGS Licorice]  Top [FLY Kumo]  Top [CLG Jenkins]  Top [IMT Revenge]  Top [DIG FakeGod]\n",
       "0               6                2               1                   4                3                   7              10                  8                  5                  9\n",
       "1               8                1               2                   3                4                   6              10                  7                  5                  9\n",
       "2               5                1               2                   4                3                   7               9                  8                  6                 10\n",
       "3               7                1               3                   4                2                   5               8                 10                  6                  9\n",
       "4               8                2               1                   3                4                  10               7                  9                  5                  6\n",
       "5              10                3               1                   2                6                   5               4                  7                  8                  9"
      ]
     },
     "execution_count": 11,
     "metadata": {},
     "output_type": "execute_result"
    }
   ],
   "source": [
    "top"
   ]
  },
  {
   "cell_type": "code",
   "execution_count": null,
   "metadata": {},
   "outputs": [],
   "source": []
  }
 ],
 "metadata": {
  "kernelspec": {
   "display_name": "Python 3",
   "language": "python",
   "name": "python3"
  },
  "language_info": {
   "codemirror_mode": {
    "name": "ipython",
    "version": 3
   },
   "file_extension": ".py",
   "mimetype": "text/x-python",
   "name": "python",
   "nbconvert_exporter": "python",
   "pygments_lexer": "ipython3",
   "version": "3.8.3"
  }
 },
 "nbformat": 4,
 "nbformat_minor": 4
}
